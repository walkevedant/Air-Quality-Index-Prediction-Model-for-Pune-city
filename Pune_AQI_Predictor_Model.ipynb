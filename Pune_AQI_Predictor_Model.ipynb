{
  "nbformat": 4,
  "nbformat_minor": 0,
  "metadata": {
    "colab": {
      "provenance": []
    },
    "kernelspec": {
      "name": "python3",
      "display_name": "Python 3"
    },
    "language_info": {
      "name": "python"
    }
  },
  "cells": [
    {
      "cell_type": "code",
      "source": [
        "## paste your drive path here\n",
        "path = r\"/content/drive/MyDrive/AQI_Report Data for year 2021.csv\""
      ],
      "metadata": {
        "id": "weZ7RWVWxgFA"
      },
      "execution_count": null,
      "outputs": []
    },
    {
      "cell_type": "code",
      "source": [
        "import pandas as pd"
      ],
      "metadata": {
        "id": "riu2KAk80ekq"
      },
      "execution_count": null,
      "outputs": []
    },
    {
      "cell_type": "code",
      "source": [
        "db = pd.read_csv(path)"
      ],
      "metadata": {
        "id": "MRbh387A0hBR",
        "colab": {
          "base_uri": "https://localhost:8080/"
        },
        "outputId": "f1e44b0a-99c8-4958-80d1-7f827a5f3280"
      },
      "execution_count": null,
      "outputs": [
        {
          "output_type": "stream",
          "name": "stderr",
          "text": [
            "<ipython-input-9-6f1f1e1f13f7>:1: DtypeWarning: Columns (12) have mixed types. Specify dtype option on import or set low_memory=False.\n",
            "  db = pd.read_csv(path)\n"
          ]
        }
      ]
    },
    {
      "cell_type": "code",
      "source": [
        "db.columns"
      ],
      "metadata": {
        "colab": {
          "base_uri": "https://localhost:8080/"
        },
        "id": "zLhb3UPz0kUy",
        "outputId": "e633db3a-7b14-402c-bb6c-7be75c8646ed"
      },
      "execution_count": null,
      "outputs": [
        {
          "output_type": "execute_result",
          "data": {
            "text/plain": [
              "Index(['OBJECTID', 'LASTUPDATEDATETIME', 'STARTDATETIME', 'ENDDATETIME',\n",
              "       'DATASOURCEID', 'NAME', 'LOCATION', 'AQI', 'AQI_POLLUTANT', 'CATEGORY',\n",
              "       'DEVICEID', 'HUMIDITY', 'LIGHT', 'NO_MAX', 'NO_MIN', 'NO2_MAX',\n",
              "       'NO2_MIN', 'OZONE_MAX', 'OZONE_MIN', 'PM10_MAX', 'PM10_MIN', 'PM2_MAX',\n",
              "       'PM2_MIN', 'SO2_MAX', 'SO2_MIN', 'STATUS', 'CO_MAX', 'CO_MIN',\n",
              "       'CO2_MAX', 'CO2_MIN', 'SOUND', 'TEMPRATURE_MAX', 'TEMPRATURE_MIN',\n",
              "       'UV_MAX', 'UV_MIN', 'AIR_PRESSURE'],\n",
              "      dtype='object')"
            ]
          },
          "metadata": {},
          "execution_count": 10
        }
      ]
    },
    {
      "cell_type": "code",
      "source": [
        "from google.colab import drive\n",
        "drive.mount('/content/drive')"
      ],
      "metadata": {
        "id": "-iTEHbI77HUZ",
        "colab": {
          "base_uri": "https://localhost:8080/"
        },
        "outputId": "88c0877c-693e-4eaf-ca35-0ff81547dacc"
      },
      "execution_count": null,
      "outputs": [
        {
          "output_type": "stream",
          "name": "stdout",
          "text": [
            "Mounted at /content/drive\n"
          ]
        }
      ]
    },
    {
      "cell_type": "code",
      "source": [],
      "metadata": {
        "id": "P7UvVpg11LKm"
      },
      "execution_count": null,
      "outputs": []
    },
    {
      "cell_type": "code",
      "source": [
        "labels = ['OBJECTID', 'LASTUPDATEDATETIME', 'STARTDATETIME', 'ENDDATETIME','CATEGORY',\n",
        "       'DATASOURCEID', 'NAME', 'LOCATION',  'DEVICEID', 'LIGHT', 'STATUS', 'NO_MIN', 'AQI_POLLUTANT']\n",
        "try :\n",
        "    db = db.drop(labels=labels, axis=1)\n",
        "    db = db.dropna()\n",
        "    db = db.iloc[5:]\n",
        "except Exception as e:\n",
        "    print(e)\n",
        "    print(\"here\")"
      ],
      "metadata": {
        "id": "AwsaSdd5okMr"
      },
      "execution_count": null,
      "outputs": []
    },
    {
      "cell_type": "code",
      "source": [
        "# saving data\n",
        "db.to_csv('/content/drive/MyDrive/Colab Notebooks/aqidata.csv')"
      ],
      "metadata": {
        "id": "nXWAvIR3uwmv"
      },
      "execution_count": null,
      "outputs": []
    },
    {
      "cell_type": "code",
      "source": [
        "db.head()"
      ],
      "metadata": {
        "colab": {
          "base_uri": "https://localhost:8080/",
          "height": 299
        },
        "id": "BHuJBwGipNgY",
        "outputId": "4b1f6e6b-d565-4f35-a5c1-4778cffe8b7f"
      },
      "execution_count": null,
      "outputs": [
        {
          "output_type": "execute_result",
          "data": {
            "text/plain": [
              "      AQI  HUMIDITY  NO_MAX  NO2_MAX  NO2_MIN  OZONE_MAX  OZONE_MIN  PM10_MAX  \\\n",
              "10  103.0     43.89     0.0    55.02    17.45      53.81      14.65    350.73   \n",
              "11  102.0     37.91     0.0   105.16    46.14      16.39       0.00     58.50   \n",
              "12   72.0     29.70     0.0    68.51     8.53      42.90       0.00     38.22   \n",
              "13  108.0     33.45     0.0    68.75    14.86      80.00      34.18    112.56   \n",
              "14  108.0     34.10     0.0   119.26    85.18       0.00       0.00    138.35   \n",
              "\n",
              "    PM10_MIN  PM2_MAX  ...  CO_MAX  CO_MIN  CO2_MAX  CO2_MIN  SOUND  \\\n",
              "10     47.07   115.11  ...    3.10    0.51   185.95   112.32  84.20   \n",
              "11     21.96    42.95  ...    3.22    1.38   524.97   397.06  78.99   \n",
              "12      5.36    12.64  ...    2.36    0.59   518.13   444.62  83.88   \n",
              "13     32.81    33.18  ...    5.53    1.35   349.82   278.66  78.71   \n",
              "14     33.90    43.19  ...    3.09    0.87   449.00   332.14  76.93   \n",
              "\n",
              "    TEMPRATURE_MAX  TEMPRATURE_MIN  UV_MAX  UV_MIN  AIR_PRESSURE  \n",
              "10           29.58           22.05    0.06     0.0          0.94  \n",
              "11           31.87           19.01    0.64     0.0          0.94  \n",
              "12           31.96           21.48    0.94     0.0          0.93  \n",
              "13           33.53           20.21    1.22     0.0          0.93  \n",
              "14           30.06           23.48    0.66     0.0          0.93  \n",
              "\n",
              "[5 rows x 23 columns]"
            ],
            "text/html": [
              "\n",
              "  <div id=\"df-36fd7a82-26b0-4353-9e51-2ca8214a465b\">\n",
              "    <div class=\"colab-df-container\">\n",
              "      <div>\n",
              "<style scoped>\n",
              "    .dataframe tbody tr th:only-of-type {\n",
              "        vertical-align: middle;\n",
              "    }\n",
              "\n",
              "    .dataframe tbody tr th {\n",
              "        vertical-align: top;\n",
              "    }\n",
              "\n",
              "    .dataframe thead th {\n",
              "        text-align: right;\n",
              "    }\n",
              "</style>\n",
              "<table border=\"1\" class=\"dataframe\">\n",
              "  <thead>\n",
              "    <tr style=\"text-align: right;\">\n",
              "      <th></th>\n",
              "      <th>AQI</th>\n",
              "      <th>HUMIDITY</th>\n",
              "      <th>NO_MAX</th>\n",
              "      <th>NO2_MAX</th>\n",
              "      <th>NO2_MIN</th>\n",
              "      <th>OZONE_MAX</th>\n",
              "      <th>OZONE_MIN</th>\n",
              "      <th>PM10_MAX</th>\n",
              "      <th>PM10_MIN</th>\n",
              "      <th>PM2_MAX</th>\n",
              "      <th>...</th>\n",
              "      <th>CO_MAX</th>\n",
              "      <th>CO_MIN</th>\n",
              "      <th>CO2_MAX</th>\n",
              "      <th>CO2_MIN</th>\n",
              "      <th>SOUND</th>\n",
              "      <th>TEMPRATURE_MAX</th>\n",
              "      <th>TEMPRATURE_MIN</th>\n",
              "      <th>UV_MAX</th>\n",
              "      <th>UV_MIN</th>\n",
              "      <th>AIR_PRESSURE</th>\n",
              "    </tr>\n",
              "  </thead>\n",
              "  <tbody>\n",
              "    <tr>\n",
              "      <th>10</th>\n",
              "      <td>103.0</td>\n",
              "      <td>43.89</td>\n",
              "      <td>0.0</td>\n",
              "      <td>55.02</td>\n",
              "      <td>17.45</td>\n",
              "      <td>53.81</td>\n",
              "      <td>14.65</td>\n",
              "      <td>350.73</td>\n",
              "      <td>47.07</td>\n",
              "      <td>115.11</td>\n",
              "      <td>...</td>\n",
              "      <td>3.10</td>\n",
              "      <td>0.51</td>\n",
              "      <td>185.95</td>\n",
              "      <td>112.32</td>\n",
              "      <td>84.20</td>\n",
              "      <td>29.58</td>\n",
              "      <td>22.05</td>\n",
              "      <td>0.06</td>\n",
              "      <td>0.0</td>\n",
              "      <td>0.94</td>\n",
              "    </tr>\n",
              "    <tr>\n",
              "      <th>11</th>\n",
              "      <td>102.0</td>\n",
              "      <td>37.91</td>\n",
              "      <td>0.0</td>\n",
              "      <td>105.16</td>\n",
              "      <td>46.14</td>\n",
              "      <td>16.39</td>\n",
              "      <td>0.00</td>\n",
              "      <td>58.50</td>\n",
              "      <td>21.96</td>\n",
              "      <td>42.95</td>\n",
              "      <td>...</td>\n",
              "      <td>3.22</td>\n",
              "      <td>1.38</td>\n",
              "      <td>524.97</td>\n",
              "      <td>397.06</td>\n",
              "      <td>78.99</td>\n",
              "      <td>31.87</td>\n",
              "      <td>19.01</td>\n",
              "      <td>0.64</td>\n",
              "      <td>0.0</td>\n",
              "      <td>0.94</td>\n",
              "    </tr>\n",
              "    <tr>\n",
              "      <th>12</th>\n",
              "      <td>72.0</td>\n",
              "      <td>29.70</td>\n",
              "      <td>0.0</td>\n",
              "      <td>68.51</td>\n",
              "      <td>8.53</td>\n",
              "      <td>42.90</td>\n",
              "      <td>0.00</td>\n",
              "      <td>38.22</td>\n",
              "      <td>5.36</td>\n",
              "      <td>12.64</td>\n",
              "      <td>...</td>\n",
              "      <td>2.36</td>\n",
              "      <td>0.59</td>\n",
              "      <td>518.13</td>\n",
              "      <td>444.62</td>\n",
              "      <td>83.88</td>\n",
              "      <td>31.96</td>\n",
              "      <td>21.48</td>\n",
              "      <td>0.94</td>\n",
              "      <td>0.0</td>\n",
              "      <td>0.93</td>\n",
              "    </tr>\n",
              "    <tr>\n",
              "      <th>13</th>\n",
              "      <td>108.0</td>\n",
              "      <td>33.45</td>\n",
              "      <td>0.0</td>\n",
              "      <td>68.75</td>\n",
              "      <td>14.86</td>\n",
              "      <td>80.00</td>\n",
              "      <td>34.18</td>\n",
              "      <td>112.56</td>\n",
              "      <td>32.81</td>\n",
              "      <td>33.18</td>\n",
              "      <td>...</td>\n",
              "      <td>5.53</td>\n",
              "      <td>1.35</td>\n",
              "      <td>349.82</td>\n",
              "      <td>278.66</td>\n",
              "      <td>78.71</td>\n",
              "      <td>33.53</td>\n",
              "      <td>20.21</td>\n",
              "      <td>1.22</td>\n",
              "      <td>0.0</td>\n",
              "      <td>0.93</td>\n",
              "    </tr>\n",
              "    <tr>\n",
              "      <th>14</th>\n",
              "      <td>108.0</td>\n",
              "      <td>34.10</td>\n",
              "      <td>0.0</td>\n",
              "      <td>119.26</td>\n",
              "      <td>85.18</td>\n",
              "      <td>0.00</td>\n",
              "      <td>0.00</td>\n",
              "      <td>138.35</td>\n",
              "      <td>33.90</td>\n",
              "      <td>43.19</td>\n",
              "      <td>...</td>\n",
              "      <td>3.09</td>\n",
              "      <td>0.87</td>\n",
              "      <td>449.00</td>\n",
              "      <td>332.14</td>\n",
              "      <td>76.93</td>\n",
              "      <td>30.06</td>\n",
              "      <td>23.48</td>\n",
              "      <td>0.66</td>\n",
              "      <td>0.0</td>\n",
              "      <td>0.93</td>\n",
              "    </tr>\n",
              "  </tbody>\n",
              "</table>\n",
              "<p>5 rows × 23 columns</p>\n",
              "</div>\n",
              "      <button class=\"colab-df-convert\" onclick=\"convertToInteractive('df-36fd7a82-26b0-4353-9e51-2ca8214a465b')\"\n",
              "              title=\"Convert this dataframe to an interactive table.\"\n",
              "              style=\"display:none;\">\n",
              "        \n",
              "  <svg xmlns=\"http://www.w3.org/2000/svg\" height=\"24px\"viewBox=\"0 0 24 24\"\n",
              "       width=\"24px\">\n",
              "    <path d=\"M0 0h24v24H0V0z\" fill=\"none\"/>\n",
              "    <path d=\"M18.56 5.44l.94 2.06.94-2.06 2.06-.94-2.06-.94-.94-2.06-.94 2.06-2.06.94zm-11 1L8.5 8.5l.94-2.06 2.06-.94-2.06-.94L8.5 2.5l-.94 2.06-2.06.94zm10 10l.94 2.06.94-2.06 2.06-.94-2.06-.94-.94-2.06-.94 2.06-2.06.94z\"/><path d=\"M17.41 7.96l-1.37-1.37c-.4-.4-.92-.59-1.43-.59-.52 0-1.04.2-1.43.59L10.3 9.45l-7.72 7.72c-.78.78-.78 2.05 0 2.83L4 21.41c.39.39.9.59 1.41.59.51 0 1.02-.2 1.41-.59l7.78-7.78 2.81-2.81c.8-.78.8-2.07 0-2.86zM5.41 20L4 18.59l7.72-7.72 1.47 1.35L5.41 20z\"/>\n",
              "  </svg>\n",
              "      </button>\n",
              "      \n",
              "  <style>\n",
              "    .colab-df-container {\n",
              "      display:flex;\n",
              "      flex-wrap:wrap;\n",
              "      gap: 12px;\n",
              "    }\n",
              "\n",
              "    .colab-df-convert {\n",
              "      background-color: #E8F0FE;\n",
              "      border: none;\n",
              "      border-radius: 50%;\n",
              "      cursor: pointer;\n",
              "      display: none;\n",
              "      fill: #1967D2;\n",
              "      height: 32px;\n",
              "      padding: 0 0 0 0;\n",
              "      width: 32px;\n",
              "    }\n",
              "\n",
              "    .colab-df-convert:hover {\n",
              "      background-color: #E2EBFA;\n",
              "      box-shadow: 0px 1px 2px rgba(60, 64, 67, 0.3), 0px 1px 3px 1px rgba(60, 64, 67, 0.15);\n",
              "      fill: #174EA6;\n",
              "    }\n",
              "\n",
              "    [theme=dark] .colab-df-convert {\n",
              "      background-color: #3B4455;\n",
              "      fill: #D2E3FC;\n",
              "    }\n",
              "\n",
              "    [theme=dark] .colab-df-convert:hover {\n",
              "      background-color: #434B5C;\n",
              "      box-shadow: 0px 1px 3px 1px rgba(0, 0, 0, 0.15);\n",
              "      filter: drop-shadow(0px 1px 2px rgba(0, 0, 0, 0.3));\n",
              "      fill: #FFFFFF;\n",
              "    }\n",
              "  </style>\n",
              "\n",
              "      <script>\n",
              "        const buttonEl =\n",
              "          document.querySelector('#df-36fd7a82-26b0-4353-9e51-2ca8214a465b button.colab-df-convert');\n",
              "        buttonEl.style.display =\n",
              "          google.colab.kernel.accessAllowed ? 'block' : 'none';\n",
              "\n",
              "        async function convertToInteractive(key) {\n",
              "          const element = document.querySelector('#df-36fd7a82-26b0-4353-9e51-2ca8214a465b');\n",
              "          const dataTable =\n",
              "            await google.colab.kernel.invokeFunction('convertToInteractive',\n",
              "                                                     [key], {});\n",
              "          if (!dataTable) return;\n",
              "\n",
              "          const docLinkHtml = 'Like what you see? Visit the ' +\n",
              "            '<a target=\"_blank\" href=https://colab.research.google.com/notebooks/data_table.ipynb>data table notebook</a>'\n",
              "            + ' to learn more about interactive tables.';\n",
              "          element.innerHTML = '';\n",
              "          dataTable['output_type'] = 'display_data';\n",
              "          await google.colab.output.renderOutput(dataTable, element);\n",
              "          const docLink = document.createElement('div');\n",
              "          docLink.innerHTML = docLinkHtml;\n",
              "          element.appendChild(docLink);\n",
              "        }\n",
              "      </script>\n",
              "    </div>\n",
              "  </div>\n",
              "  "
            ]
          },
          "metadata": {},
          "execution_count": 54
        }
      ]
    },
    {
      "cell_type": "code",
      "source": [
        "import pandas as pd"
      ],
      "metadata": {
        "id": "8D4CY2LWRo8T"
      },
      "execution_count": null,
      "outputs": []
    },
    {
      "cell_type": "code",
      "source": [
        "path = r'/content/drive/MyDrive/Colab Notebooks/aqidata.csv'\n",
        "df = pd.read_csv(path)\n",
        "print(df.columns)\n",
        "df = df.drop(labels=['Unnamed: 0'], axis=1)\n",
        "df = df.sample(frac=1)\n",
        "df.head()"
      ],
      "metadata": {
        "colab": {
          "base_uri": "https://localhost:8080/",
          "height": 386
        },
        "id": "F3oRD1cqvHb3",
        "outputId": "f3862b0b-3e4d-44a6-b4c1-1a52ee3cd6fd"
      },
      "execution_count": null,
      "outputs": [
        {
          "output_type": "stream",
          "name": "stdout",
          "text": [
            "Index(['Unnamed: 0', 'AQI', 'HUMIDITY', 'NO_MAX', 'NO2_MAX', 'NO2_MIN',\n",
            "       'OZONE_MAX', 'OZONE_MIN', 'PM10_MAX', 'PM10_MIN', 'PM2_MAX', 'PM2_MIN',\n",
            "       'SO2_MAX', 'SO2_MIN', 'CO_MAX', 'CO_MIN', 'CO2_MAX', 'CO2_MIN', 'SOUND',\n",
            "       'TEMPRATURE_MAX', 'TEMPRATURE_MIN', 'UV_MAX', 'UV_MIN', 'AIR_PRESSURE'],\n",
            "      dtype='object')\n"
          ]
        },
        {
          "output_type": "execute_result",
          "data": {
            "text/plain": [
              "          AQI  HUMIDITY  NO_MAX  NO2_MAX  NO2_MIN  OZONE_MAX  OZONE_MIN  \\\n",
              "376422  149.0     80.58     0.0    21.84    16.53      26.15      18.39   \n",
              "466568   72.0     62.28     0.0    84.36    45.01      12.43       0.00   \n",
              "491085   44.0     53.50     0.0    51.98     0.56      34.48       6.07   \n",
              "883515  108.0     35.40     0.0   106.65    29.82      50.28       0.00   \n",
              "451074   83.0     77.67     0.0    65.63    50.80      12.23       2.57   \n",
              "\n",
              "        PM10_MAX  PM10_MIN  PM2_MAX  ...  CO_MAX  CO_MIN  CO2_MAX  CO2_MIN  \\\n",
              "376422     26.84      7.99     9.37  ...    1.24    1.03   122.12    91.14   \n",
              "466568    126.92     19.05    62.69  ...    1.68    0.00   244.68     0.00   \n",
              "491085     43.09     17.27    19.82  ...    1.71    0.25   506.20     0.00   \n",
              "883515    215.15      1.00    85.60  ...    1.95    0.16   192.88     0.00   \n",
              "451074     68.94     40.65    24.68  ...    0.35    0.06   205.52   137.80   \n",
              "\n",
              "        SOUND  TEMPRATURE_MAX  TEMPRATURE_MIN  UV_MAX  UV_MIN  AIR_PRESSURE  \n",
              "376422  69.07           25.63           25.17    0.00     0.0          0.93  \n",
              "466568  68.24           30.63           23.72    2.59     0.0          0.93  \n",
              "491085  84.74           35.31           23.04    3.25     0.0          0.93  \n",
              "883515  70.31           31.53           18.10    1.11     0.0          0.94  \n",
              "451074  63.85           25.79           24.92    0.00     0.0          0.93  \n",
              "\n",
              "[5 rows x 23 columns]"
            ],
            "text/html": [
              "\n",
              "  <div id=\"df-ff28b304-bfe0-41e1-ab11-156314cc8aee\">\n",
              "    <div class=\"colab-df-container\">\n",
              "      <div>\n",
              "<style scoped>\n",
              "    .dataframe tbody tr th:only-of-type {\n",
              "        vertical-align: middle;\n",
              "    }\n",
              "\n",
              "    .dataframe tbody tr th {\n",
              "        vertical-align: top;\n",
              "    }\n",
              "\n",
              "    .dataframe thead th {\n",
              "        text-align: right;\n",
              "    }\n",
              "</style>\n",
              "<table border=\"1\" class=\"dataframe\">\n",
              "  <thead>\n",
              "    <tr style=\"text-align: right;\">\n",
              "      <th></th>\n",
              "      <th>AQI</th>\n",
              "      <th>HUMIDITY</th>\n",
              "      <th>NO_MAX</th>\n",
              "      <th>NO2_MAX</th>\n",
              "      <th>NO2_MIN</th>\n",
              "      <th>OZONE_MAX</th>\n",
              "      <th>OZONE_MIN</th>\n",
              "      <th>PM10_MAX</th>\n",
              "      <th>PM10_MIN</th>\n",
              "      <th>PM2_MAX</th>\n",
              "      <th>...</th>\n",
              "      <th>CO_MAX</th>\n",
              "      <th>CO_MIN</th>\n",
              "      <th>CO2_MAX</th>\n",
              "      <th>CO2_MIN</th>\n",
              "      <th>SOUND</th>\n",
              "      <th>TEMPRATURE_MAX</th>\n",
              "      <th>TEMPRATURE_MIN</th>\n",
              "      <th>UV_MAX</th>\n",
              "      <th>UV_MIN</th>\n",
              "      <th>AIR_PRESSURE</th>\n",
              "    </tr>\n",
              "  </thead>\n",
              "  <tbody>\n",
              "    <tr>\n",
              "      <th>376422</th>\n",
              "      <td>149.0</td>\n",
              "      <td>80.58</td>\n",
              "      <td>0.0</td>\n",
              "      <td>21.84</td>\n",
              "      <td>16.53</td>\n",
              "      <td>26.15</td>\n",
              "      <td>18.39</td>\n",
              "      <td>26.84</td>\n",
              "      <td>7.99</td>\n",
              "      <td>9.37</td>\n",
              "      <td>...</td>\n",
              "      <td>1.24</td>\n",
              "      <td>1.03</td>\n",
              "      <td>122.12</td>\n",
              "      <td>91.14</td>\n",
              "      <td>69.07</td>\n",
              "      <td>25.63</td>\n",
              "      <td>25.17</td>\n",
              "      <td>0.00</td>\n",
              "      <td>0.0</td>\n",
              "      <td>0.93</td>\n",
              "    </tr>\n",
              "    <tr>\n",
              "      <th>466568</th>\n",
              "      <td>72.0</td>\n",
              "      <td>62.28</td>\n",
              "      <td>0.0</td>\n",
              "      <td>84.36</td>\n",
              "      <td>45.01</td>\n",
              "      <td>12.43</td>\n",
              "      <td>0.00</td>\n",
              "      <td>126.92</td>\n",
              "      <td>19.05</td>\n",
              "      <td>62.69</td>\n",
              "      <td>...</td>\n",
              "      <td>1.68</td>\n",
              "      <td>0.00</td>\n",
              "      <td>244.68</td>\n",
              "      <td>0.00</td>\n",
              "      <td>68.24</td>\n",
              "      <td>30.63</td>\n",
              "      <td>23.72</td>\n",
              "      <td>2.59</td>\n",
              "      <td>0.0</td>\n",
              "      <td>0.93</td>\n",
              "    </tr>\n",
              "    <tr>\n",
              "      <th>491085</th>\n",
              "      <td>44.0</td>\n",
              "      <td>53.50</td>\n",
              "      <td>0.0</td>\n",
              "      <td>51.98</td>\n",
              "      <td>0.56</td>\n",
              "      <td>34.48</td>\n",
              "      <td>6.07</td>\n",
              "      <td>43.09</td>\n",
              "      <td>17.27</td>\n",
              "      <td>19.82</td>\n",
              "      <td>...</td>\n",
              "      <td>1.71</td>\n",
              "      <td>0.25</td>\n",
              "      <td>506.20</td>\n",
              "      <td>0.00</td>\n",
              "      <td>84.74</td>\n",
              "      <td>35.31</td>\n",
              "      <td>23.04</td>\n",
              "      <td>3.25</td>\n",
              "      <td>0.0</td>\n",
              "      <td>0.93</td>\n",
              "    </tr>\n",
              "    <tr>\n",
              "      <th>883515</th>\n",
              "      <td>108.0</td>\n",
              "      <td>35.40</td>\n",
              "      <td>0.0</td>\n",
              "      <td>106.65</td>\n",
              "      <td>29.82</td>\n",
              "      <td>50.28</td>\n",
              "      <td>0.00</td>\n",
              "      <td>215.15</td>\n",
              "      <td>1.00</td>\n",
              "      <td>85.60</td>\n",
              "      <td>...</td>\n",
              "      <td>1.95</td>\n",
              "      <td>0.16</td>\n",
              "      <td>192.88</td>\n",
              "      <td>0.00</td>\n",
              "      <td>70.31</td>\n",
              "      <td>31.53</td>\n",
              "      <td>18.10</td>\n",
              "      <td>1.11</td>\n",
              "      <td>0.0</td>\n",
              "      <td>0.94</td>\n",
              "    </tr>\n",
              "    <tr>\n",
              "      <th>451074</th>\n",
              "      <td>83.0</td>\n",
              "      <td>77.67</td>\n",
              "      <td>0.0</td>\n",
              "      <td>65.63</td>\n",
              "      <td>50.80</td>\n",
              "      <td>12.23</td>\n",
              "      <td>2.57</td>\n",
              "      <td>68.94</td>\n",
              "      <td>40.65</td>\n",
              "      <td>24.68</td>\n",
              "      <td>...</td>\n",
              "      <td>0.35</td>\n",
              "      <td>0.06</td>\n",
              "      <td>205.52</td>\n",
              "      <td>137.80</td>\n",
              "      <td>63.85</td>\n",
              "      <td>25.79</td>\n",
              "      <td>24.92</td>\n",
              "      <td>0.00</td>\n",
              "      <td>0.0</td>\n",
              "      <td>0.93</td>\n",
              "    </tr>\n",
              "  </tbody>\n",
              "</table>\n",
              "<p>5 rows × 23 columns</p>\n",
              "</div>\n",
              "      <button class=\"colab-df-convert\" onclick=\"convertToInteractive('df-ff28b304-bfe0-41e1-ab11-156314cc8aee')\"\n",
              "              title=\"Convert this dataframe to an interactive table.\"\n",
              "              style=\"display:none;\">\n",
              "        \n",
              "  <svg xmlns=\"http://www.w3.org/2000/svg\" height=\"24px\"viewBox=\"0 0 24 24\"\n",
              "       width=\"24px\">\n",
              "    <path d=\"M0 0h24v24H0V0z\" fill=\"none\"/>\n",
              "    <path d=\"M18.56 5.44l.94 2.06.94-2.06 2.06-.94-2.06-.94-.94-2.06-.94 2.06-2.06.94zm-11 1L8.5 8.5l.94-2.06 2.06-.94-2.06-.94L8.5 2.5l-.94 2.06-2.06.94zm10 10l.94 2.06.94-2.06 2.06-.94-2.06-.94-.94-2.06-.94 2.06-2.06.94z\"/><path d=\"M17.41 7.96l-1.37-1.37c-.4-.4-.92-.59-1.43-.59-.52 0-1.04.2-1.43.59L10.3 9.45l-7.72 7.72c-.78.78-.78 2.05 0 2.83L4 21.41c.39.39.9.59 1.41.59.51 0 1.02-.2 1.41-.59l7.78-7.78 2.81-2.81c.8-.78.8-2.07 0-2.86zM5.41 20L4 18.59l7.72-7.72 1.47 1.35L5.41 20z\"/>\n",
              "  </svg>\n",
              "      </button>\n",
              "      \n",
              "  <style>\n",
              "    .colab-df-container {\n",
              "      display:flex;\n",
              "      flex-wrap:wrap;\n",
              "      gap: 12px;\n",
              "    }\n",
              "\n",
              "    .colab-df-convert {\n",
              "      background-color: #E8F0FE;\n",
              "      border: none;\n",
              "      border-radius: 50%;\n",
              "      cursor: pointer;\n",
              "      display: none;\n",
              "      fill: #1967D2;\n",
              "      height: 32px;\n",
              "      padding: 0 0 0 0;\n",
              "      width: 32px;\n",
              "    }\n",
              "\n",
              "    .colab-df-convert:hover {\n",
              "      background-color: #E2EBFA;\n",
              "      box-shadow: 0px 1px 2px rgba(60, 64, 67, 0.3), 0px 1px 3px 1px rgba(60, 64, 67, 0.15);\n",
              "      fill: #174EA6;\n",
              "    }\n",
              "\n",
              "    [theme=dark] .colab-df-convert {\n",
              "      background-color: #3B4455;\n",
              "      fill: #D2E3FC;\n",
              "    }\n",
              "\n",
              "    [theme=dark] .colab-df-convert:hover {\n",
              "      background-color: #434B5C;\n",
              "      box-shadow: 0px 1px 3px 1px rgba(0, 0, 0, 0.15);\n",
              "      filter: drop-shadow(0px 1px 2px rgba(0, 0, 0, 0.3));\n",
              "      fill: #FFFFFF;\n",
              "    }\n",
              "  </style>\n",
              "\n",
              "      <script>\n",
              "        const buttonEl =\n",
              "          document.querySelector('#df-ff28b304-bfe0-41e1-ab11-156314cc8aee button.colab-df-convert');\n",
              "        buttonEl.style.display =\n",
              "          google.colab.kernel.accessAllowed ? 'block' : 'none';\n",
              "\n",
              "        async function convertToInteractive(key) {\n",
              "          const element = document.querySelector('#df-ff28b304-bfe0-41e1-ab11-156314cc8aee');\n",
              "          const dataTable =\n",
              "            await google.colab.kernel.invokeFunction('convertToInteractive',\n",
              "                                                     [key], {});\n",
              "          if (!dataTable) return;\n",
              "\n",
              "          const docLinkHtml = 'Like what you see? Visit the ' +\n",
              "            '<a target=\"_blank\" href=https://colab.research.google.com/notebooks/data_table.ipynb>data table notebook</a>'\n",
              "            + ' to learn more about interactive tables.';\n",
              "          element.innerHTML = '';\n",
              "          dataTable['output_type'] = 'display_data';\n",
              "          await google.colab.output.renderOutput(dataTable, element);\n",
              "          const docLink = document.createElement('div');\n",
              "          docLink.innerHTML = docLinkHtml;\n",
              "          element.appendChild(docLink);\n",
              "        }\n",
              "      </script>\n",
              "    </div>\n",
              "  </div>\n",
              "  "
            ]
          },
          "metadata": {},
          "execution_count": 14
        }
      ]
    },
    {
      "cell_type": "code",
      "source": [
        "import numpy as np"
      ],
      "metadata": {
        "id": "1hnn2bWF8mcz"
      },
      "execution_count": null,
      "outputs": []
    },
    {
      "cell_type": "code",
      "source": [
        "# model 1 , aqi level predictor\n",
        "y_data = df.iloc[:, 0].to_numpy()\n",
        "y_data = np.float32(y_data/10).reshape((890791,1))\n",
        "y_data.shape, y_data[0]"
      ],
      "metadata": {
        "colab": {
          "base_uri": "https://localhost:8080/"
        },
        "id": "ti5cHjaBsyFj",
        "outputId": "f485505b-8dfa-4214-afd2-a9cfa0d26385"
      },
      "execution_count": null,
      "outputs": [
        {
          "output_type": "execute_result",
          "data": {
            "text/plain": [
              "((890791, 1), array([14.9], dtype=float32))"
            ]
          },
          "metadata": {},
          "execution_count": 16
        }
      ]
    },
    {
      "cell_type": "code",
      "source": [],
      "metadata": {
        "id": "pjHIPYu280Vc"
      },
      "execution_count": null,
      "outputs": []
    },
    {
      "cell_type": "code",
      "source": [
        "x_data = df.iloc[:, 3:].to_numpy()\n",
        "\n",
        "x_data = np.float32(x_data)\n",
        "x_data.shape, x_data[0]"
      ],
      "metadata": {
        "colab": {
          "base_uri": "https://localhost:8080/"
        },
        "id": "QGeWbm0-wNLL",
        "outputId": "65340d5a-4c3d-4f36-9754-113a770c3d23"
      },
      "execution_count": null,
      "outputs": [
        {
          "output_type": "execute_result",
          "data": {
            "text/plain": [
              "((890791, 20),\n",
              " array([ 21.84,  16.53,  26.15,  18.39,  26.84,   7.99,   9.37,   4.98,\n",
              "          3.28,   2.7 ,   1.24,   1.03, 122.12,  91.14,  69.07,  25.63,\n",
              "         25.17,   0.  ,   0.  ,   0.93], dtype=float32))"
            ]
          },
          "metadata": {},
          "execution_count": 17
        }
      ]
    },
    {
      "cell_type": "code",
      "source": [
        "import torch\n",
        "from torch import nn"
      ],
      "metadata": {
        "id": "w_KImnrKwsI4"
      },
      "execution_count": null,
      "outputs": []
    },
    {
      "cell_type": "code",
      "source": [
        "sample = 20000\n",
        "data_x = torch.from_numpy(x_data[:sample])\n",
        "data_y = torch.from_numpy(y_data[:sample])"
      ],
      "metadata": {
        "id": "mXqfNDrIVEAx"
      },
      "execution_count": null,
      "outputs": []
    },
    {
      "cell_type": "code",
      "source": [
        "\n",
        "\n",
        "\n",
        "\n",
        "n_input  = x_data.shape[1]\n",
        "n_out = 1\n",
        "model = nn.Sequential(\n",
        "                      nn.Linear(n_input, n_input),\n",
        "                      nn.ReLU(),\n",
        "                      nn.Linear(n_input, 10),\n",
        "                      nn.ReLU(),\n",
        "                      nn.Linear(10, 5),\n",
        "                      nn.Linear(5, n_out),\n",
        "                      nn.ReLU()\n",
        "                      )\n",
        "\n",
        "\n",
        "loss_function = nn.MSELoss()\n",
        "\n",
        "learning_rate = 0.001\n",
        "optimizer = torch.optim.Adam(model.parameters(), lr=learning_rate)\n"
      ],
      "metadata": {
        "id": "UYoFhNlHxn1Z"
      },
      "execution_count": null,
      "outputs": []
    },
    {
      "cell_type": "code",
      "source": [
        "losses = []\n",
        "print(\"Starting training\")\n",
        "for epoch in range(10000):\n",
        "    pred_y = model(data_x)\n",
        "    # print( pred_y, data_y )\n",
        "    # print( pred_y.shape, data_y.shape)\n",
        "    loss = loss_function(pred_y, data_y)/data_y[0]\n",
        "    # print(loss)\n",
        "    losses.append(loss.item())\n",
        "    if epoch % 100 == 0 or epoch < 10:\n",
        "        print(\"For the iter \", epoch, \" The current loss is \", losses[-1])\n",
        "    model.zero_grad()\n",
        "    loss.backward()\n",
        "    optimizer.step()\n",
        "\n",
        "import matplotlib.pyplot as plt\n",
        "plt.plot(losses)\n",
        "plt.ylabel('loss')\n",
        "plt.xlabel('epoch')\n",
        "plt.title(\"Learning rate %f\"%(learning_rate))\n",
        "plt.show()\n",
        "\n",
        "torch.save(model.state_dict(), \"file.pth\" )"
      ],
      "metadata": {
        "id": "kwBB6Fh779li",
        "colab": {
          "base_uri": "https://localhost:8080/",
          "height": 1000
        },
        "outputId": "d2ce1361-dcc7-4409-e261-326cfd9ce699"
      },
      "execution_count": null,
      "outputs": [
        {
          "output_type": "stream",
          "name": "stdout",
          "text": [
            "Starting training\n",
            "For the iter  0  The current loss is  4.22756814956665\n",
            "For the iter  1  The current loss is  4.062554836273193\n",
            "For the iter  2  The current loss is  3.9008426666259766\n",
            "For the iter  3  The current loss is  3.74328875541687\n",
            "For the iter  4  The current loss is  3.590245246887207\n",
            "For the iter  5  The current loss is  3.442472457885742\n",
            "For the iter  6  The current loss is  3.3006703853607178\n",
            "For the iter  7  The current loss is  3.1647555828094482\n",
            "For the iter  8  The current loss is  3.0341389179229736\n",
            "For the iter  9  The current loss is  2.909336805343628\n",
            "For the iter  100  The current loss is  0.5832629799842834\n",
            "For the iter  200  The current loss is  0.5056940317153931\n",
            "For the iter  300  The current loss is  0.48037952184677124\n",
            "For the iter  400  The current loss is  0.42910242080688477\n",
            "For the iter  500  The current loss is  0.40879756212234497\n",
            "For the iter  600  The current loss is  0.39511746168136597\n",
            "For the iter  700  The current loss is  0.38794347643852234\n",
            "For the iter  800  The current loss is  0.38295069336891174\n",
            "For the iter  900  The current loss is  0.37716421484947205\n",
            "For the iter  1000  The current loss is  0.37288719415664673\n",
            "For the iter  1100  The current loss is  0.36877116560935974\n",
            "For the iter  1200  The current loss is  0.36433282494544983\n",
            "For the iter  1300  The current loss is  0.36021921038627625\n",
            "For the iter  1400  The current loss is  0.35633519291877747\n",
            "For the iter  1500  The current loss is  0.351992130279541\n",
            "For the iter  1600  The current loss is  0.3483801484107971\n",
            "For the iter  1700  The current loss is  0.3444614112377167\n",
            "For the iter  1800  The current loss is  0.34175026416778564\n",
            "For the iter  1900  The current loss is  0.33927392959594727\n",
            "For the iter  2000  The current loss is  0.3379032015800476\n",
            "For the iter  2100  The current loss is  0.33532148599624634\n",
            "For the iter  2200  The current loss is  0.3331446647644043\n",
            "For the iter  2300  The current loss is  0.33132264018058777\n",
            "For the iter  2400  The current loss is  0.3291473090648651\n",
            "For the iter  2500  The current loss is  0.32714590430259705\n",
            "For the iter  2600  The current loss is  0.32558348774909973\n",
            "For the iter  2700  The current loss is  0.3235286772251129\n",
            "For the iter  2800  The current loss is  0.3230142295360565\n",
            "For the iter  2900  The current loss is  0.32063817977905273\n",
            "For the iter  3000  The current loss is  0.31957516074180603\n",
            "For the iter  3100  The current loss is  0.3184815049171448\n",
            "For the iter  3200  The current loss is  0.3166014552116394\n",
            "For the iter  3300  The current loss is  0.3155820369720459\n",
            "For the iter  3400  The current loss is  0.3153155744075775\n",
            "For the iter  3500  The current loss is  0.31383582949638367\n",
            "For the iter  3600  The current loss is  0.31259748339653015\n",
            "For the iter  3700  The current loss is  0.31217309832572937\n",
            "For the iter  3800  The current loss is  0.31054842472076416\n",
            "For the iter  3900  The current loss is  0.30946648120880127\n",
            "For the iter  4000  The current loss is  0.30875837802886963\n",
            "For the iter  4100  The current loss is  0.30788886547088623\n",
            "For the iter  4200  The current loss is  0.3061653673648834\n",
            "For the iter  4300  The current loss is  0.30574673414230347\n",
            "For the iter  4400  The current loss is  0.30462026596069336\n",
            "For the iter  4500  The current loss is  0.3043023943901062\n",
            "For the iter  4600  The current loss is  0.3033861517906189\n",
            "For the iter  4700  The current loss is  0.30324020981788635\n",
            "For the iter  4800  The current loss is  0.302781343460083\n",
            "For the iter  4900  The current loss is  0.3014736771583557\n",
            "For the iter  5000  The current loss is  0.3010154664516449\n",
            "For the iter  5100  The current loss is  0.3016278147697449\n",
            "For the iter  5200  The current loss is  0.3005853295326233\n",
            "For the iter  5300  The current loss is  0.30114755034446716\n",
            "For the iter  5400  The current loss is  0.3005596995353699\n",
            "For the iter  5500  The current loss is  0.2998630106449127\n",
            "For the iter  5600  The current loss is  0.3000603914260864\n",
            "For the iter  5700  The current loss is  0.29926416277885437\n",
            "For the iter  5800  The current loss is  0.2986659109592438\n",
            "For the iter  5900  The current loss is  0.29957282543182373\n",
            "For the iter  6000  The current loss is  0.29812508821487427\n",
            "For the iter  6100  The current loss is  0.298430860042572\n",
            "For the iter  6200  The current loss is  0.29777151346206665\n",
            "For the iter  6300  The current loss is  0.29801100492477417\n",
            "For the iter  6400  The current loss is  0.29761502146720886\n",
            "For the iter  6500  The current loss is  0.29711806774139404\n",
            "For the iter  6600  The current loss is  0.2971702814102173\n",
            "For the iter  6700  The current loss is  0.29706355929374695\n",
            "For the iter  6800  The current loss is  0.2968352138996124\n",
            "For the iter  6900  The current loss is  0.29620078206062317\n",
            "For the iter  7000  The current loss is  0.29654666781425476\n",
            "For the iter  7100  The current loss is  0.2961023449897766\n",
            "For the iter  7200  The current loss is  0.29592904448509216\n",
            "For the iter  7300  The current loss is  0.2953474819660187\n",
            "For the iter  7400  The current loss is  0.29609784483909607\n",
            "For the iter  7500  The current loss is  0.29484492540359497\n",
            "For the iter  7600  The current loss is  0.29523444175720215\n",
            "For the iter  7700  The current loss is  0.29553931951522827\n",
            "For the iter  7800  The current loss is  0.29416581988334656\n",
            "For the iter  7900  The current loss is  0.29452165961265564\n",
            "For the iter  8000  The current loss is  0.2943662106990814\n",
            "For the iter  8100  The current loss is  0.29368215799331665\n",
            "For the iter  8200  The current loss is  0.29466283321380615\n",
            "For the iter  8300  The current loss is  0.293836385011673\n",
            "For the iter  8400  The current loss is  0.2936793267726898\n",
            "For the iter  8500  The current loss is  0.29290422797203064\n",
            "For the iter  8600  The current loss is  0.29247409105300903\n",
            "For the iter  8700  The current loss is  0.29269343614578247\n",
            "For the iter  8800  The current loss is  0.2926645278930664\n",
            "For the iter  8900  The current loss is  0.2916601896286011\n",
            "For the iter  9000  The current loss is  0.29250410199165344\n",
            "For the iter  9100  The current loss is  0.29114848375320435\n",
            "For the iter  9200  The current loss is  0.2907864451408386\n",
            "For the iter  9300  The current loss is  0.29096755385398865\n",
            "For the iter  9400  The current loss is  0.29046401381492615\n",
            "For the iter  9500  The current loss is  0.2902359664440155\n",
            "For the iter  9600  The current loss is  0.29045388102531433\n",
            "For the iter  9700  The current loss is  0.2891773283481598\n",
            "For the iter  9800  The current loss is  0.28879669308662415\n",
            "For the iter  9900  The current loss is  0.28929606080055237\n"
          ]
        },
        {
          "output_type": "display_data",
          "data": {
            "text/plain": [
              "<Figure size 432x288 with 1 Axes>"
            ],
            "image/png": "[encoded data removed]"
          },
          "metadata": {
            "needs_background": "light"
          }
        }
      ]
    },
    {
      "cell_type": "code",
      "source": [
        "# save the model params\n",
        "PATH = r\"/content/drive/MyDrive/Colab Notebooks/aqidatamodel.pth\"\n",
        "torch.save(model.state_dict(), PATH)"
      ],
      "metadata": {
        "id": "IQY-GQEnc4uC"
      },
      "execution_count": null,
      "outputs": []
    },
    {
      "cell_type": "code",
      "source": [
        "PATH = r\"/content/drive/MyDrive/Colab Notebooks/aqidatamodel.pth\"\n",
        "model.load_state_dict(torch.load(PATH))\n",
        "model.eval()"
      ],
      "metadata": {
        "colab": {
          "base_uri": "https://localhost:8080/"
        },
        "id": "C2Bz0WuQc4iZ",
        "outputId": "b409b146-426c-4d1c-ef3e-34def959fc0b"
      },
      "execution_count": null,
      "outputs": [
        {
          "output_type": "execute_result",
          "data": {
            "text/plain": [
              "Sequential(\n",
              "  (0): Linear(in_features=20, out_features=20, bias=True)\n",
              "  (1): ReLU()\n",
              "  (2): Linear(in_features=20, out_features=10, bias=True)\n",
              "  (3): ReLU()\n",
              "  (4): Linear(in_features=10, out_features=5, bias=True)\n",
              "  (5): Linear(in_features=5, out_features=1, bias=True)\n",
              "  (6): ReLU()\n",
              ")"
            ]
          },
          "metadata": {},
          "execution_count": 23
        }
      ]
    },
    {
      "cell_type": "code",
      "source": [
        "# testing\n",
        "sample = 100\n",
        "test_data_x = torch.from_numpy(x_data[-1*sample:])\n",
        "test_data_y = torch.from_numpy(y_data[-1*sample:])"
      ],
      "metadata": {
        "id": "DSbE7XYrc4fP"
      },
      "execution_count": null,
      "outputs": []
    },
    {
      "cell_type": "code",
      "source": [
        "pred_test_data_y = model(test_data_x)\n",
        "# list1, list2 = zip(*sorted(zip(test_data_y.detach().numpy(), pred_test_data_y.detach().numpy())))\n",
        "list1, list2 = test_data_y.detach().numpy(), pred_test_data_y.detach().numpy()\n",
        "loss = loss_function(pred_test_data_y, test_data_y)/test_data_y[0]\n",
        "loss"
      ],
      "metadata": {
        "id": "BEc2ZsAbc4b4",
        "colab": {
          "base_uri": "https://localhost:8080/"
        },
        "outputId": "0f68d933-4e7c-45da-9ecd-420aa7bb149b"
      },
      "execution_count": null,
      "outputs": [
        {
          "output_type": "execute_result",
          "data": {
            "text/plain": [
              "tensor([1.0090], grad_fn=<DivBackward0>)"
            ]
          },
          "metadata": {},
          "execution_count": 25
        }
      ]
    },
    {
      "cell_type": "code",
      "source": [
        "import matplotlib.pyplot as plt\n",
        "plt.scatter(range(sample),list1)\n",
        "plt.scatter(range(sample),list2)\n",
        "plt.show()"
      ],
      "metadata": {
        "id": "nFI8oB_Wc4VR",
        "colab": {
          "base_uri": "https://localhost:8080/",
          "height": 265
        },
        "outputId": "075b4f9c-4ae0-48b6-a62f-d52ded6fbb45"
      },
      "execution_count": null,
      "outputs": [
        {
          "output_type": "display_data",
          "data": {
            "text/plain": [
              "<Figure size 432x288 with 1 Axes>"
            ],
            "image/png": "[encoded data removed]"
          },
          "metadata": {
            "needs_background": "light"
          }
        }
      ]
    },
    {
      "cell_type": "code",
      "source": [
        "pred_test_data_y = model(test_data_x)\n",
        "list1, list2 = zip(*sorted(zip(test_data_y.detach().numpy(), pred_test_data_y.detach().numpy())))\n",
        "# list1, list2 = test_data_y.detach().numpy(), pred_test_data_y.detach().numpy()\n",
        "loss = loss_function(pred_test_data_y, test_data_y)/test_data_y[0]\n",
        "loss"
      ],
      "metadata": {
        "colab": {
          "base_uri": "https://localhost:8080/"
        },
        "id": "PBRtKfG4GQev",
        "outputId": "6ad4037b-bf22-4276-c687-f7eed2a70f49"
      },
      "execution_count": null,
      "outputs": [
        {
          "output_type": "execute_result",
          "data": {
            "text/plain": [
              "tensor([1.0090], grad_fn=<DivBackward0>)"
            ]
          },
          "metadata": {},
          "execution_count": 27
        }
      ]
    },
    {
      "cell_type": "code",
      "source": [
        "import matplotlib.pyplot as plt\n",
        "plt.plot(list1)\n",
        "plt.plot(list2)\n",
        "plt.show()"
      ],
      "metadata": {
        "colab": {
          "base_uri": "https://localhost:8080/",
          "height": 265
        },
        "id": "WfcW43J2GQiD",
        "outputId": "80394054-0142-48f5-ede6-ef458165a912"
      },
      "execution_count": null,
      "outputs": [
        {
          "output_type": "display_data",
          "data": {
            "text/plain": [
              "<Figure size 432x288 with 1 Axes>"
            ],
            "image/png": "[encoded data removed]"
          },
          "metadata": {
            "needs_background": "light"
          }
        }
      ]
    },
    {
      "cell_type": "code",
      "source": [],
      "metadata": {
        "id": "QQIiSYJkQEJt"
      },
      "execution_count": null,
      "outputs": []
    }
  ]
}